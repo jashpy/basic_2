{
 "cells": [
  {
   "cell_type": "markdown",
   "id": "8b08ab2b-c4e4-4994-9978-501d029f4252",
   "metadata": {},
   "source": [
    "problem-1"
   ]
  },
  {
   "cell_type": "code",
   "execution_count": 1,
   "id": "47ab5e1d-ab6f-4630-81eb-7b77032c056a",
   "metadata": {},
   "outputs": [
    {
     "data": {
      "text/plain": [
       "\"ANS-Basically comments can be single line comment as well as multiline \\ncomment.single line comment can be \\nperformed by putting a '#'symbol whereas a multiline comment can be executed\\ninside triple quotes().\\nthis question has been answered itself using comments\""
      ]
     },
     "execution_count": 1,
     "metadata": {},
     "output_type": "execute_result"
    }
   ],
   "source": [
    "#Q1. How do you comment code in Python? What are the different types of comments?\n",
    "'''ANS-Basically comments can be single line comment as well as multiline \n",
    "comment.single line comment can be \n",
    "performed by putting a '#'symbol whereas a multiline comment can be executed\n",
    "inside triple quotes('''   ''').\n",
    "this question has been answered itself using comments'''"
   ]
  },
  {
   "cell_type": "markdown",
   "id": "0267af6f-8d33-4488-852a-28c4459e4816",
   "metadata": {},
   "source": [
    "problem-2"
   ]
  },
  {
   "cell_type": "code",
   "execution_count": 2,
   "id": "a7f0f585-5ccc-4634-b9aa-c13ce2a4a3c7",
   "metadata": {},
   "outputs": [
    {
     "name": "stdout",
     "output_type": "stream",
     "text": [
      "25\n",
      "10\n"
     ]
    }
   ],
   "source": [
    "#Q2. What are variables in Python? How do you declare and assign values to\n",
    "#variables?\n",
    "'''ANS-variables are the containers which contains different types \n",
    "of data types(int,float,tuple,boolean etc)\n",
    "example of variable declaration is shown below'''\n",
    "a=25                            #a is a container that stores value 25\n",
    "b=10                             #bis a container that stores value 10\n",
    "print(a)\n",
    "print(b)"
   ]
  },
  {
   "cell_type": "markdown",
   "id": "908a51bb-5ba8-438d-94a5-c86ee443eb0d",
   "metadata": {},
   "source": [
    "problem-3"
   ]
  },
  {
   "cell_type": "code",
   "execution_count": 3,
   "id": "ef683b2a-10dd-4fda-a974-28fd1c26331a",
   "metadata": {},
   "outputs": [
    {
     "name": "stdin",
     "output_type": "stream",
     "text": [
      "enter a number 4\n"
     ]
    },
    {
     "name": "stdout",
     "output_type": "stream",
     "text": [
      "<class 'str'>\n",
      "<class 'int'>\n"
     ]
    }
   ],
   "source": [
    "#Q3. How do you convert one data type to another in Python?\n",
    "'''ANS-Basically the method used to convert one data type to other is known as\n",
    "typecasting.\n",
    "one example of it is given below'''\n",
    "a=input(\"enter a number\")\n",
    "print(type(a))   \n",
    "a=int(a)                  #type casting is done here which converts string data type to class int\n",
    "print(type(a))"
   ]
  },
  {
   "cell_type": "markdown",
   "id": "c61ba1f9-e5b2-4677-84b1-aa19c6b3d885",
   "metadata": {},
   "source": [
    "problem-4"
   ]
  },
  {
   "cell_type": "code",
   "execution_count": 4,
   "id": "ae242925-8d77-4251-8441-01c2b24f195f",
   "metadata": {
    "collapsed": true,
    "jupyter": {
     "outputs_hidden": true
    },
    "tags": []
   },
   "outputs": [
    {
     "ename": "SyntaxError",
     "evalue": "incomplete input (2007533558.py, line 2)",
     "output_type": "error",
     "traceback": [
      "\u001b[0;36m  Cell \u001b[0;32mIn[4], line 2\u001b[0;36m\u001b[0m\n\u001b[0;31m    '''ans-first open the command prompt and then write python there if the\u001b[0m\n\u001b[0m    ^\u001b[0m\n\u001b[0;31mSyntaxError\u001b[0m\u001b[0;31m:\u001b[0m incomplete input\n"
     ]
    }
   ],
   "source": [
    "#Q4. How do you write and execute a Python script from the command line?\n",
    "'''ans-first open the command prompt and then write python there if the \n",
    "installation is not proper then it will not \n",
    "work in that case we can anaconda prompt also.In the command prompt write python and hit \"enter\" then python with\n",
    "its version will be displayed then write \"python file_location\" the file\n",
    "whose code you want to run.then hit\n",
    "\"enter\"."
   ]
  },
  {
   "cell_type": "markdown",
   "id": "11f6c2aa-a4b2-4935-801d-63e45ee4c448",
   "metadata": {},
   "source": [
    "problem-5"
   ]
  },
  {
   "cell_type": "code",
   "execution_count": 5,
   "id": "c5b8579f-1360-4daf-828c-96640b0507e0",
   "metadata": {},
   "outputs": [
    {
     "name": "stdout",
     "output_type": "stream",
     "text": [
      "[2, 3]\n"
     ]
    }
   ],
   "source": [
    "#Q5. Given a list my_list = [1, 2, 3, 4, 5], write the code to slice the list \n",
    "#and obtain the sub-list [2, 3].\n",
    "\n",
    "my_list=[1,2,3,4,5]\n",
    "print(my_list[1:3])"
   ]
  },
  {
   "cell_type": "markdown",
   "id": "087070a3-fd64-474c-9f6f-8ee70a605939",
   "metadata": {},
   "source": [
    "problem-6"
   ]
  },
  {
   "cell_type": "code",
   "execution_count": 6,
   "id": "2059cc4a-ede2-4fbd-9128-e0eba1291119",
   "metadata": {},
   "outputs": [
    {
     "name": "stdout",
     "output_type": "stream",
     "text": [
      "<class 'complex'>\n",
      "12.0\n",
      "4.0\n"
     ]
    }
   ],
   "source": [
    "#Q6. What is a complex number in mathematics, and how is it represented \n",
    "#in Python?\n",
    "'''ANS-Complex number in mathematics means a number consisting both real and \n",
    "imaginary part.Even a real number\n",
    "also can be written in the form of complex number like 4=4+0j where 4 is its \n",
    "real unit whereas 0 is its imaginary\n",
    "unit.python representation is as follows:'''\n",
    "a=12+4j\n",
    "print(type(a))\n",
    "print(a.real)\n",
    "print(a.imag)\n"
   ]
  },
  {
   "cell_type": "markdown",
   "id": "14490a2f-8470-4018-952b-47e72bab746b",
   "metadata": {},
   "source": [
    "problem-7"
   ]
  },
  {
   "cell_type": "code",
   "execution_count": 7,
   "id": "14a3cd9d-5bd8-466b-aa5b-a704c028801c",
   "metadata": {},
   "outputs": [
    {
     "data": {
      "text/plain": [
       "25"
      ]
     },
     "execution_count": 7,
     "metadata": {},
     "output_type": "execute_result"
    }
   ],
   "source": [
    "#Q7. What is the correct way to declare a variable named age and assign the \n",
    "#value 25 to it?\n",
    "#ans-first step is to create a variable named age and stores simply 25 to it\n",
    "#AS python is self-smart language it will automatically identifies thetype asint.\n",
    "age=25\n",
    "age"
   ]
  },
  {
   "cell_type": "markdown",
   "id": "c348a42a-c1ec-4bc9-84a2-fa25d48eb1da",
   "metadata": {},
   "source": [
    "problem-8"
   ]
  },
  {
   "cell_type": "code",
   "execution_count": 8,
   "id": "0d805fb1-ff5c-4843-b3c3-652b0435b353",
   "metadata": {},
   "outputs": [
    {
     "name": "stdout",
     "output_type": "stream",
     "text": [
      "9.99\n",
      "<class 'float'>\n"
     ]
    }
   ],
   "source": [
    "'''Q8. Declare a variable named price and assign the value 9.99 to it. What data type does this variable\n",
    "belong to?'''\n",
    "\n",
    "price=9.99\n",
    "#this belong to float datatype\n",
    "print(price)\n",
    "print(type(price))"
   ]
  },
  {
   "cell_type": "markdown",
   "id": "661ed089-901f-4fbf-ba53-fc74dd70bf2e",
   "metadata": {},
   "source": [
    "problem-9"
   ]
  },
  {
   "cell_type": "code",
   "execution_count": 9,
   "id": "b3b1127a-72c4-4d61-a3b3-81db80ed7e07",
   "metadata": {},
   "outputs": [
    {
     "name": "stdout",
     "output_type": "stream",
     "text": [
      "Jashbant Dash\n"
     ]
    }
   ],
   "source": [
    "'''Q9. Create a variable named name and assign your full name to it as a string. How would you print the\n",
    "value of this variable?'''\n",
    "\n",
    "name=\"Jashbant Dash\"\n",
    "#simply we can print it through the print function\n",
    "print(name)"
   ]
  },
  {
   "cell_type": "markdown",
   "id": "d67b49b5-fafc-41f5-a632-99074ebe661a",
   "metadata": {},
   "source": [
    "problem-10"
   ]
  },
  {
   "cell_type": "code",
   "execution_count": 10,
   "id": "07f43e44-44e8-4b11-b65d-9228a9556526",
   "metadata": {},
   "outputs": [
    {
     "name": "stdout",
     "output_type": "stream",
     "text": [
      "7\n",
      "11\n",
      "World\n"
     ]
    }
   ],
   "source": [
    "#Q10. Given the string \"Hello, World!\", extract the substring \"World\".\n",
    "\n",
    "greet=\"Hello, World!\"\n",
    "print(greet.index(\"W\"))\n",
    "print(greet.index(\"d\"))\n",
    "print(greet[7:12])"
   ]
  },
  {
   "cell_type": "markdown",
   "id": "92ddb16e-578f-4fc9-b37d-a3f6f008323f",
   "metadata": {},
   "source": [
    "problem-11"
   ]
  },
  {
   "cell_type": "code",
   "execution_count": 11,
   "id": "f9fbebb3-2175-4b2c-a7d6-12ff1b7cda44",
   "metadata": {},
   "outputs": [
    {
     "name": "stdin",
     "output_type": "stream",
     "text": [
      "ARE YOU A STUDENT yes\n"
     ]
    },
    {
     "name": "stdout",
     "output_type": "stream",
     "text": [
      "True\n"
     ]
    }
   ],
   "source": [
    "'''Q11. Create a variable named \"is_student\" and assign it a boolean value indicating whether you are\n",
    "currently a student or not.'''\n",
    "\n",
    "is_student=True\n",
    "a=input(\"ARE YOU A STUDENT\")\n",
    "if(a==\"yes\"):\n",
    "    print(is_student)\n",
    "else:\n",
    "    print(\"False\")\n",
    "\n"
   ]
  },
  {
   "cell_type": "code",
   "execution_count": null,
   "id": "f3cb47fb-098e-4192-b9ca-269fa949afa6",
   "metadata": {},
   "outputs": [],
   "source": []
  }
 ],
 "metadata": {
  "kernelspec": {
   "display_name": "Python 3 (ipykernel)",
   "language": "python",
   "name": "python3"
  },
  "language_info": {
   "codemirror_mode": {
    "name": "ipython",
    "version": 3
   },
   "file_extension": ".py",
   "mimetype": "text/x-python",
   "name": "python",
   "nbconvert_exporter": "python",
   "pygments_lexer": "ipython3",
   "version": "3.10.8"
  }
 },
 "nbformat": 4,
 "nbformat_minor": 5
}
